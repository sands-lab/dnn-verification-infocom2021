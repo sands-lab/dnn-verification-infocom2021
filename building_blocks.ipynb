{
 "cells": [
  {
   "cell_type": "markdown",
   "metadata": {},
   "source": [
    "# Analyzing Learning-Based Networked Systems with Formal Verification\n",
    "\n",
    "## Building blocks implementation\n",
    "\n",
    "This notebook contains the implementation of the building blocks described in section 4 of our paper. Those building blocks represent the encoding in MILP of simple, combinable properties.\n",
    "\n",
    "**Note:** This is not an interactive notebook (do not try to run it)."
   ]
  },
  {
   "cell_type": "markdown",
   "metadata": {},
   "source": [
    "### Constants and ranges"
   ]
  },
  {
   "cell_type": "code",
   "execution_count": null,
   "metadata": {},
   "outputs": [],
   "source": [
    "# Encode a constant value\n",
    "# Example: pensieve.py line 181\n",
    "\n",
    "def encode_constant(variable, value):\n",
    "    vars = [variable]\n",
    "    coefs = [1]\n",
    "    rhs = [value]\n",
    "    tag_con = \"fixed_feature_value_\" + str(variable)\n",
    "\n",
    "    ilpsolver.add_linear_constraint(rhs=rhs,\n",
    "                                    senses='E',\n",
    "                                    vars=vars,\n",
    "                                    coefs=coefs,\n",
    "                                    tag=tag_con)"
   ]
  },
  {
   "cell_type": "code",
   "execution_count": null,
   "metadata": {},
   "outputs": [],
   "source": [
    "# Encode a range\n",
    "# Example: pensieve.py line 195\n",
    "\n",
    "def encode_range(variable, lb, ub):\n",
    "    vars = [variable]\n",
    "    coefs = [1]\n",
    "\n",
    "    rhs = [lb]\n",
    "    tag_con = \"constraint_lower_bound_\" + str(variable)\n",
    "    ilpsolver.add_linear_constraint(rhs=rhs,\n",
    "                                    senses='G',\n",
    "                                    vars=vars,\n",
    "                                    coefs=coefs,\n",
    "                                    tag=tag_con)\n",
    "\n",
    "    rhs = [ub]\n",
    "    tag_con = \"constraint_upper_bound_\" + str(variable)\n",
    "    ilpsolver.add_linear_constraint(rhs=rhs,\n",
    "                                    senses='L',\n",
    "                                    vars=vars,\n",
    "                                    coefs=coefs,\n",
    "                                    tag=tag_con)"
   ]
  },
  {
   "cell_type": "markdown",
   "metadata": {},
   "source": [
    "### Linear relations"
   ]
  },
  {
   "cell_type": "code",
   "execution_count": null,
   "metadata": {},
   "outputs": [],
   "source": [
    "# Encode a linear relation between variables\n",
    "# Example: layers.py line 320\n",
    "\n",
    "# variables * weights + bias = output\n",
    "\n",
    "def encode_linear_relation(inputs, output, weights, bias):\n",
    "    #sum a_i input_i + b = output\n",
    "    #sum a_i input_i - output = -b\n",
    "    vars = np.concatenate([inputs, [output]])\n",
    "    coefs = np.concatenate([weights, [-1]])\n",
    "    rhs = [float(-bias)]\n",
    "    tag_con = \"linear\" + \"_\" + str(i) + \"_\" + str(output_idx)\n",
    "\n",
    "    ilpsolver.add_linear_constraint(rhs=rhs,\n",
    "                                    senses='E',\n",
    "                                    vars=vars,\n",
    "                                    coefs=coefs,\n",
    "                                    tag=tag_con)"
   ]
  },
  {
   "cell_type": "markdown",
   "metadata": {},
   "source": [
    "### Maximum value"
   ]
  },
  {
   "cell_type": "code",
   "execution_count": null,
   "metadata": {},
   "outputs": [],
   "source": [
    "# Encode a variable as the maximum of a set\n",
    "# Example: pensieve.py line 216\n",
    "\n",
    "# variables[index] must be the maximum\n",
    "\n",
    "def encode_maximum(variables, index):\n",
    "    indicators, _ = ilpsolver.add_variables(label=\"q\",\n",
    "                                            ids=['prop_selected_output'],obj=0,\n",
    "                                            lb=0, ub=1,\n",
    "                                            type=self.ilpsolver.solver.variables.type.binary,\n",
    "                                            sz=len(variables))\n",
    "    \n",
    "    for i in range(len(variables)):\n",
    "        # inds[i] = 1 → vars[index] > vars[i]\n",
    "        if i == index:\n",
    "            continue\n",
    "        vars = [variables[index], variables[i]]\n",
    "        coefs = [1, -1]\n",
    "        rhs = 0\n",
    "        tag_con = \"prop_maximum_ind_\" + str(i)\n",
    "\n",
    "        ilpsolver.add_indicator_constraint(indicator_vars=indicators[i],\n",
    "                                           vars=vars,\n",
    "                                           coefs=coefs,\n",
    "                                           rhs=rhs,\n",
    "                                           senses='G',\n",
    "                                           complemented=0,\n",
    "                                           tag=tag_con)\n",
    "\n",
    "        # inds[i] = 0 → vars[index] < vars[i]\n",
    "        coefs = [-1, 1]\n",
    "        tag_con = \"prop_maximum_inverted_ind_\" + str(i)\n",
    "\n",
    "        ilpsolver.add_indicator_constraint(indicator_vars=ind_vars,\n",
    "                                           vars=vars,\n",
    "                                           coefs=coefs,\n",
    "                                           rhs=rhs,\n",
    "                                           senses='G',\n",
    "                                           complemented=1,\n",
    "                                           tag=tag_con)\n",
    "        \n",
    "        # all indicators must be equal to 1 => sum must be equal to len(variables)-1\n",
    "        coefs = [1] * len(variables)\n",
    "        coefs[index] = 0\n",
    "        vars = indicators\n",
    "        rhs = [len(variables) - 1]\n",
    "        tag_con = \"prop_maximum_sum\"\n",
    "\n",
    "        ilpsolver.add_linear_constraint(rhs=rhs,\n",
    "                                        senses='E',\n",
    "                                        vars=vars,\n",
    "                                        coefs=coefs,\n",
    "                                        tag=tag_con)"
   ]
  },
  {
   "cell_type": "markdown",
   "metadata": {},
   "source": [
    "### Discrete values"
   ]
  },
  {
   "cell_type": "code",
   "execution_count": null,
   "metadata": {},
   "outputs": [],
   "source": [
    "# Encode a variable as having one out of a set of possible values\n",
    "# Example: layers.py line 475\n",
    "\n",
    "def encode_discrete_values(variable, values)\n",
    "    indicators, _ = ilpsolver.add_variables(label=\"v\",\n",
    "                                            ids=[self.name],obj=0,\n",
    "                                            lb=0,\n",
    "                                            ub=1,\n",
    "                                            type=ilpsolver.solver.variables.type.binary,\n",
    "                                            sz=len(values))\n",
    "\n",
    "    for i in range(len(values)):\n",
    "        #ind = 1 → var = values[i]\n",
    "        vars = [variable]\n",
    "        coefs = [1]\n",
    "        rhs = values[i]\n",
    "        tag_con = \"prop_discrete_ind_\" + str(i)\n",
    "\n",
    "        ilpsolver.add_indicator_constraint(indicator_vars=indicators[i],\n",
    "                                           vars=vars,\n",
    "                                           coefs=coefs,\n",
    "                                           rhs=rhs,\n",
    "                                           senses='E',\n",
    "                                           complemented=0,\n",
    "                                           tag=tag_con)\n",
    "\n",
    "        # one indicator must be equal to 1 => sum must be equal to 1\n",
    "        vars = indicators\n",
    "        coefs = [1] * len(values)\n",
    "        rhs = [1]\n",
    "        tag_con = \"prop_discrete_sum\"\n",
    "    \n",
    "        ilpsolver.add_linear_constraint(rhs=rhs,\n",
    "                                        senses='E',\n",
    "                                        vars=vars,\n",
    "                                        coefs=coefs,\n",
    "                                        tag=tag_con)"
   ]
  }
 ],
 "metadata": {
  "kernelspec": {
   "display_name": "fv",
   "language": "python",
   "name": "fv"
  },
  "language_info": {
   "codemirror_mode": {
    "name": "ipython",
    "version": 3
   },
   "file_extension": ".py",
   "mimetype": "text/x-python",
   "name": "python",
   "nbconvert_exporter": "python",
   "pygments_lexer": "ipython3",
   "version": "3.7.9"
  }
 },
 "nbformat": 4,
 "nbformat_minor": 4
}
